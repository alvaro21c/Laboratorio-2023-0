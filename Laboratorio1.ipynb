{
  "nbformat": 4,
  "nbformat_minor": 0,
  "metadata": {
    "colab": {
      "provenance": []
    },
    "kernelspec": {
      "name": "python3",
      "display_name": "Python 3"
    },
    "language_info": {
      "name": "python"
    }
  },
  "cells": [
    {
      "cell_type": "code",
      "execution_count": null,
      "metadata": {
        "colab": {
          "base_uri": "https://localhost:8080/"
        },
        "id": "AcZa5fisJUeW",
        "outputId": "87432f3c-12c5-45df-e3a6-a3d11afb23bb"
      },
      "outputs": [
        {
          "output_type": "stream",
          "name": "stdout",
          "text": [
            "Hola mundo\n"
          ]
        }
      ],
      "source": [
        "print (\"Hola mundo\")"
      ]
    },
    {
      "cell_type": "code",
      "source": [
        "print (\"Hola mundo\",\"inicio el ciclo\")"
      ],
      "metadata": {
        "colab": {
          "base_uri": "https://localhost:8080/"
        },
        "id": "meRu2PYIJ6PU",
        "outputId": "2647d432-fe56-4590-9f59-a5dd01c83e5c"
      },
      "execution_count": null,
      "outputs": [
        {
          "output_type": "stream",
          "name": "stdout",
          "text": [
            "Hola mundo inicio el ciclo\n"
          ]
        }
      ]
    },
    {
      "cell_type": "code",
      "source": [
        "print (\"La mejor presentación de fútbol\",\"fue la noche crema\", sep=\":\")"
      ],
      "metadata": {
        "colab": {
          "base_uri": "https://localhost:8080/"
        },
        "id": "vWqbEQvSKKdN",
        "outputId": "266d29f8-e621-4302-afa3-63572704489b"
      },
      "execution_count": null,
      "outputs": [
        {
          "output_type": "stream",
          "name": "stdout",
          "text": [
            "La mejor presentación de fútbol:fue la noche crema\n"
          ]
        }
      ]
    },
    {
      "cell_type": "code",
      "source": [
        "print (\"La mejor presentación de fútbol\",\"fue la noche crema\", sep=\":\",end=\".\")"
      ],
      "metadata": {
        "colab": {
          "base_uri": "https://localhost:8080/"
        },
        "id": "Kf-NuhpPKdbM",
        "outputId": "625eeb92-9d0c-49cd-d237-70a066199885"
      },
      "execution_count": null,
      "outputs": [
        {
          "output_type": "stream",
          "name": "stdout",
          "text": [
            "La mejor presentación de fútbol:fue la noche crema."
          ]
        }
      ]
    },
    {
      "cell_type": "code",
      "source": [
        "#Tipos de datos\n",
        "#int por ejemplo 8, -1, 3\n",
        "# float por ejemplo 2.1, 3.4, -1.7\n",
        "# boolean TRUE, FALSE\n",
        "# string por ejemplo \"natacion\", \"curso\", \"codigo\", \"1\"\n",
        "\n"
      ],
      "metadata": {
        "colab": {
          "base_uri": "https://localhost:8080/",
          "height": 134
        },
        "id": "K_7IGihQKzxM",
        "outputId": "c00ceb0e-92d8-41d2-fe93-610d11d00a30"
      },
      "execution_count": null,
      "outputs": [
        {
          "output_type": "error",
          "ename": "SyntaxError",
          "evalue": "ignored",
          "traceback": [
            "\u001b[0;36m  File \u001b[0;32m\"<ipython-input-9-cb1e098ecc87>\"\u001b[0;36m, line \u001b[0;32m1\u001b[0m\n\u001b[0;31m    Tipos de datos\u001b[0m\n\u001b[0m          ^\u001b[0m\n\u001b[0;31mSyntaxError\u001b[0m\u001b[0;31m:\u001b[0m invalid syntax\n"
          ]
        }
      ]
    },
    {
      "cell_type": "code",
      "source": [
        "#operaciones\n",
        "# int\n",
        "\n",
        "x=2+3\n",
        "y=5-6\n",
        "z=2*3\n",
        "a=4/2\n",
        "b=2**2\n",
        "print(x,y,z,a,b)\n",
        "\n",
        "type(z)"
      ],
      "metadata": {
        "colab": {
          "base_uri": "https://localhost:8080/"
        },
        "id": "19Gc8c9iMQ6u",
        "outputId": "670cfdc0-4a31-4830-aa04-ab458feee6d5"
      },
      "execution_count": null,
      "outputs": [
        {
          "output_type": "stream",
          "name": "stdout",
          "text": [
            "5 -1 6 2.0 4\n"
          ]
        },
        {
          "output_type": "execute_result",
          "data": {
            "text/plain": [
              "int"
            ]
          },
          "metadata": {},
          "execution_count": 16
        }
      ]
    },
    {
      "cell_type": "code",
      "source": [
        "#operaciones \n",
        "#float\n",
        "x=1.3+1\n",
        "y=2.5+2\n",
        "z=7/2\n",
        "\n",
        "print(x,y,z)\n",
        "\n",
        "type(x)\n",
        "\n",
        "print(type(x),type(y))\n"
      ],
      "metadata": {
        "colab": {
          "base_uri": "https://localhost:8080/"
        },
        "id": "TWo1KsB3M5lp",
        "outputId": "5186bf73-b90d-49dd-da04-b40d93116d08"
      },
      "execution_count": null,
      "outputs": [
        {
          "output_type": "stream",
          "name": "stdout",
          "text": [
            "2.3 4.5 3.5\n",
            "<class 'float'> <class 'float'>\n"
          ]
        }
      ]
    },
    {
      "cell_type": "code",
      "source": [
        "3/2 # es un resultado siempre va a ser float"
      ],
      "metadata": {
        "colab": {
          "base_uri": "https://localhost:8080/"
        },
        "id": "vSuytvD0NYnS",
        "outputId": "f4aef80c-7311-42f8-d44c-ff41f815158b"
      },
      "execution_count": null,
      "outputs": [
        {
          "output_type": "execute_result",
          "data": {
            "text/plain": [
              "1.5"
            ]
          },
          "metadata": {},
          "execution_count": 21
        }
      ]
    },
    {
      "cell_type": "code",
      "source": [
        "x=4/2\n",
        "type(x)"
      ],
      "metadata": {
        "colab": {
          "base_uri": "https://localhost:8080/"
        },
        "id": "sRLZIj24PcGT",
        "outputId": "0cdfcac5-a364-48a2-c3b0-efd4daa225c4"
      },
      "execution_count": null,
      "outputs": [
        {
          "output_type": "execute_result",
          "data": {
            "text/plain": [
              "float"
            ]
          },
          "metadata": {},
          "execution_count": 30
        }
      ]
    },
    {
      "cell_type": "code",
      "source": [
        "3//2 # el resultado siempre va a ser un int, es el cociente de la division"
      ],
      "metadata": {
        "colab": {
          "base_uri": "https://localhost:8080/"
        },
        "id": "yfHtljk5NXKk",
        "outputId": "a00e8ed9-4d31-40e3-eb9d-fd82fd32736e"
      },
      "execution_count": null,
      "outputs": [
        {
          "output_type": "execute_result",
          "data": {
            "text/plain": [
              "1"
            ]
          },
          "metadata": {},
          "execution_count": 22
        }
      ]
    },
    {
      "cell_type": "code",
      "source": [
        "10//3 # es para obtener el cociente"
      ],
      "metadata": {
        "colab": {
          "base_uri": "https://localhost:8080/"
        },
        "id": "sQ8T9r5sOoIz",
        "outputId": "cc4565b3-c320-4f64-bed5-273e4e6e952c"
      },
      "execution_count": null,
      "outputs": [
        {
          "output_type": "execute_result",
          "data": {
            "text/plain": [
              "3"
            ]
          },
          "metadata": {},
          "execution_count": 27
        }
      ]
    },
    {
      "cell_type": "code",
      "source": [
        "10%3 # tambien te da un valor int, pero es el residuo"
      ],
      "metadata": {
        "colab": {
          "base_uri": "https://localhost:8080/"
        },
        "id": "CjgjOlWDOqaO",
        "outputId": "e60113cc-6ca8-4c5a-aed3-617ac91eb9a4"
      },
      "execution_count": null,
      "outputs": [
        {
          "output_type": "execute_result",
          "data": {
            "text/plain": [
              "1"
            ]
          },
          "metadata": {},
          "execution_count": 28
        }
      ]
    },
    {
      "cell_type": "code",
      "source": [
        "4%2 # porcentaje es para obtener el residuo"
      ],
      "metadata": {
        "colab": {
          "base_uri": "https://localhost:8080/"
        },
        "id": "FnQoz1bANzBS",
        "outputId": "ee57dce9-cd43-43a2-914d-3eb78fe21d61"
      },
      "execution_count": null,
      "outputs": [
        {
          "output_type": "execute_result",
          "data": {
            "text/plain": [
              "0"
            ]
          },
          "metadata": {},
          "execution_count": 24
        }
      ]
    },
    {
      "cell_type": "code",
      "source": [
        "#operaciones\n",
        "#boolean\n",
        "\n",
        "a=1==2\n",
        "\n",
        "type(a)\n",
        "a\n"
      ],
      "metadata": {
        "id": "IPkKdhcgNP5W",
        "colab": {
          "base_uri": "https://localhost:8080/"
        },
        "outputId": "f4f0c0f5-4707-4cc0-c5da-fc46181124f3"
      },
      "execution_count": null,
      "outputs": [
        {
          "output_type": "execute_result",
          "data": {
            "text/plain": [
              "False"
            ]
          },
          "metadata": {},
          "execution_count": 33
        }
      ]
    },
    {
      "cell_type": "code",
      "source": [],
      "metadata": {
        "id": "uYrinHOzQtvb"
      },
      "execution_count": null,
      "outputs": []
    },
    {
      "cell_type": "code",
      "source": [
        "a= 1<2\n",
        "b=1.2<=1.2\n",
        "c=\"Auto\"==\"auto\" # significa igual a\n",
        "\n",
        "print(a,b,c)\n",
        "\n",
        "d= \"1\" != 1 # != significa diferente de \n",
        "print (d)"
      ],
      "metadata": {
        "colab": {
          "base_uri": "https://localhost:8080/"
        },
        "id": "H7qww4gaQmRx",
        "outputId": "efcc6002-21fe-4d8e-95ea-533e4b535fc1"
      },
      "execution_count": null,
      "outputs": [
        {
          "output_type": "stream",
          "name": "stdout",
          "text": [
            "True True False\n",
            "True\n"
          ]
        }
      ]
    },
    {
      "cell_type": "code",
      "source": [
        "#operaciones\n",
        "#string\n",
        "\n",
        "x= \"bien\"\n",
        "y= \"genial\"\n",
        "z=\"natacion\"\n",
        "\n",
        "type (x)\n",
        "\n",
        "#\"La proxima semana\" + \" \" +\"firma Christian Cueva\"\n",
        "x=\"Ayer goleo Alianza Lima.\" + \" \" + \"Se viene el tricampeonato?\"\n",
        "x\n",
        "\n",
        "type(x)\n",
        "type(\"1934\")\n",
        "type(1934)\n"
      ],
      "metadata": {
        "colab": {
          "base_uri": "https://localhost:8080/"
        },
        "id": "R4FYg5x3Rpah",
        "outputId": "59e8cde7-de51-4d1f-9729-b7f3cc6a9c60"
      },
      "execution_count": null,
      "outputs": [
        {
          "output_type": "execute_result",
          "data": {
            "text/plain": [
              "int"
            ]
          },
          "metadata": {},
          "execution_count": 87
        }
      ]
    },
    {
      "cell_type": "code",
      "source": [
        "x= \"bien\"\n",
        "y= \"genial\"\n",
        "z=\"natacion\"\n",
        "print (x,y,z)\n",
        "type(x)"
      ],
      "metadata": {
        "colab": {
          "base_uri": "https://localhost:8080/"
        },
        "id": "LmfPn2CTgsIR",
        "outputId": "270f69fd-ad87-4e9d-abfe-00d856285751"
      },
      "execution_count": null,
      "outputs": [
        {
          "output_type": "stream",
          "name": "stdout",
          "text": [
            "bien genial natacion\n"
          ]
        },
        {
          "output_type": "execute_result",
          "data": {
            "text/plain": [
              "str"
            ]
          },
          "metadata": {},
          "execution_count": 86
        }
      ]
    },
    {
      "cell_type": "code",
      "source": [
        "#Convertir tipo de datos (casting)\n",
        "x=207+218+221\n",
        "y=x/3\n",
        "a=int(y)\n",
        "b=int(x/3)\n",
        "\n",
        "round(y,1)\n",
        "round(219.6555)\n",
        "\n"
      ],
      "metadata": {
        "colab": {
          "base_uri": "https://localhost:8080/"
        },
        "id": "GyvCC4vWTJWN",
        "outputId": "0d023317-e1b3-4cd6-e14a-442d3696d6b8"
      },
      "execution_count": null,
      "outputs": [
        {
          "output_type": "execute_result",
          "data": {
            "text/plain": [
              "220"
            ]
          },
          "metadata": {},
          "execution_count": 58
        }
      ]
    },
    {
      "cell_type": "code",
      "source": [
        "\n",
        "# print me permite concatenar distintos tipos de datos\n",
        "print('4/2 =',4/2)\n",
        "\n"
      ],
      "metadata": {
        "colab": {
          "base_uri": "https://localhost:8080/"
        },
        "id": "cYro0gFBXP_H",
        "outputId": "5413d6c7-578e-4930-ecaa-0eed82d4b35f"
      },
      "execution_count": null,
      "outputs": [
        {
          "output_type": "stream",
          "name": "stdout",
          "text": [
            "4/2 = 2.0\n"
          ]
        }
      ]
    },
    {
      "cell_type": "code",
      "source": [
        "print ('4/2 =' + str(4/2))"
      ],
      "metadata": {
        "colab": {
          "base_uri": "https://localhost:8080/"
        },
        "id": "Ea3vEIVFX9pf",
        "outputId": "9df6bdb2-e9f0-4569-9abd-583e8eaab1b6"
      },
      "execution_count": null,
      "outputs": [
        {
          "output_type": "stream",
          "name": "stdout",
          "text": [
            "4/2 =2.0\n"
          ]
        }
      ]
    },
    {
      "cell_type": "code",
      "source": [
        "x = \"Universitario\"\n",
        "y = \"Alianza\"\n",
        "\n",
        "m = x + \" y \" + y + \" \" + \"son los mejores equipos del Peru\"\n",
        "m"
      ],
      "metadata": {
        "colab": {
          "base_uri": "https://localhost:8080/",
          "height": 36
        },
        "id": "sl9-1RRbYXRP",
        "outputId": "a225e3ac-7ee4-412c-c290-c56e87030aaf"
      },
      "execution_count": null,
      "outputs": [
        {
          "output_type": "execute_result",
          "data": {
            "text/plain": [
              "'Universitario y Alianza son los mejores equipos del Peru'"
            ],
            "application/vnd.google.colaboratory.intrinsic+json": {
              "type": "string"
            }
          },
          "metadata": {},
          "execution_count": 65
        }
      ]
    },
    {
      "cell_type": "code",
      "source": [
        "# Input\n",
        "\n",
        "peli = input (\"¿Cual es la ultima pelicula que has visto?\")\n",
        "\n"
      ],
      "metadata": {
        "colab": {
          "base_uri": "https://localhost:8080/"
        },
        "id": "kG6DgtKiYt_f",
        "outputId": "dad5001e-bdd3-4146-ce02-2ba188e210a2"
      },
      "execution_count": null,
      "outputs": [
        {
          "name": "stdout",
          "output_type": "stream",
          "text": [
            "¿Cual es la ultima pelicula que has visto?Megan\n"
          ]
        }
      ]
    },
    {
      "cell_type": "code",
      "source": [
        "deporte = input (\"¿Cuando fue la ultima vez que hiciste deporte\")"
      ],
      "metadata": {
        "colab": {
          "base_uri": "https://localhost:8080/"
        },
        "id": "r5a-Et30Zbg5",
        "outputId": "4f237689-82b8-4120-db4f-6c77f68b2e13"
      },
      "execution_count": null,
      "outputs": [
        {
          "name": "stdout",
          "output_type": "stream",
          "text": [
            "¿Cuando fue la ultima vez que hiciste deporteDomingo\n"
          ]
        }
      ]
    },
    {
      "cell_type": "code",
      "source": [
        "peli = input (\"¿Cual es la ultima pelicula que has visto?\")\n",
        "opinion = input (\"¿Que te parecio?\")\n",
        "\n",
        "x = \"La ultima pelicula que has visto es {} y tu opinion fue {}\".format(peli,opinion,)\n",
        "print (x)"
      ],
      "metadata": {
        "colab": {
          "base_uri": "https://localhost:8080/"
        },
        "id": "KehassmgZo2y",
        "outputId": "98261010-cf5e-4789-cb78-83d52a12eb5e"
      },
      "execution_count": null,
      "outputs": [
        {
          "output_type": "stream",
          "name": "stdout",
          "text": [
            "¿Cual es la ultima pelicula que has visto?Megan\n",
            "¿Que te parecio?es buena peli\n",
            "La ultima pelicula que has visto es Megan y tu opinion fue es buena peli\n"
          ]
        }
      ]
    },
    {
      "cell_type": "code",
      "source": [
        "#Condicionales\n",
        "\n",
        "x = 5\n",
        "\n",
        "print (x>3 and x<5)\n",
        "print (x>3 or x<5)"
      ],
      "metadata": {
        "colab": {
          "base_uri": "https://localhost:8080/"
        },
        "id": "iua7uqeca8Ga",
        "outputId": "b8b13be5-2c2c-46cc-ce17-03b646cff6b0"
      },
      "execution_count": null,
      "outputs": [
        {
          "output_type": "stream",
          "name": "stdout",
          "text": [
            "False\n",
            "True\n"
          ]
        }
      ]
    },
    {
      "cell_type": "code",
      "source": [
        "# Sustiticion de variables\n",
        "x=10\n",
        "\n",
        "x=x+10\n",
        "\n",
        "x\n"
      ],
      "metadata": {
        "colab": {
          "base_uri": "https://localhost:8080/"
        },
        "id": "byxDSe9KbZZZ",
        "outputId": "20ef714a-3071-4b8a-d2ff-db8e5831db46"
      },
      "execution_count": null,
      "outputs": [
        {
          "output_type": "execute_result",
          "data": {
            "text/plain": [
              "30"
            ]
          },
          "metadata": {},
          "execution_count": 76
        }
      ]
    },
    {
      "cell_type": "code",
      "source": [
        "z=30\n",
        "\n",
        "z=z**2\n",
        "z"
      ],
      "metadata": {
        "colab": {
          "base_uri": "https://localhost:8080/"
        },
        "id": "A0f8LoJub7G2",
        "outputId": "02582ad8-e594-4a22-fe24-831c60bf833e"
      },
      "execution_count": null,
      "outputs": [
        {
          "output_type": "execute_result",
          "data": {
            "text/plain": [
              "900"
            ]
          },
          "metadata": {},
          "execution_count": 79
        }
      ]
    },
    {
      "cell_type": "code",
      "source": [
        "z=30\n",
        "z**=2 #esto es lo mismo que escribir z=z**2\n",
        "\n",
        "z"
      ],
      "metadata": {
        "colab": {
          "base_uri": "https://localhost:8080/"
        },
        "id": "ZYSLxIjgcGIy",
        "outputId": "2da2ea12-8889-4bf9-8b6c-315b08655757"
      },
      "execution_count": null,
      "outputs": [
        {
          "output_type": "execute_result",
          "data": {
            "text/plain": [
              "900"
            ]
          },
          "metadata": {},
          "execution_count": 81
        }
      ]
    },
    {
      "cell_type": "code",
      "source": [
        "# EJERCICIO FINAL\n",
        "cuenta = float(input(\"Cuanto costo la cena?\"))\n",
        "igv = float(input(\"Cual es el porcentaje de IGV?\"))\n",
        "propina = float(input(\"Cual es el porcentaje de propina?\"))\n",
        "\n",
        "# calcular\n",
        "# igv y adicionarlo\n",
        "t=(cuenta*igv)\n",
        "cuenta=cuenta+t \n",
        "\n",
        "# propina\n",
        "\n",
        "p= (cuenta*propina)\n",
        "cuenta = cuenta + p\n",
        "\n",
        "\n",
        "# redondear \n",
        "cuenta = round(cuenta,2)\n",
        "\n",
        "print (\"La cuenta final fue de S/\",cuenta)"
      ],
      "metadata": {
        "colab": {
          "base_uri": "https://localhost:8080/"
        },
        "id": "J9QpDEpucGO3",
        "outputId": "c99b2ced-7aa2-477f-a85a-8ad32c6fc20d"
      },
      "execution_count": null,
      "outputs": [
        {
          "output_type": "stream",
          "name": "stdout",
          "text": [
            "Cuanto costo la cena?25\n",
            "Cual es el porcentaje de IGV?0.18\n",
            "Cual es el porcentaje de propina?0.1\n",
            "La cuenta final fue de S/ 32.45\n"
          ]
        }
      ]
    },
    {
      "cell_type": "code",
      "source": [],
      "metadata": {
        "id": "-0FvsLTregWd"
      },
      "execution_count": null,
      "outputs": []
    }
  ]
}