{
  "nbformat": 4,
  "nbformat_minor": 0,
  "metadata": {
    "colab": {
      "provenance": [],
      "authorship_tag": "ABX9TyN6aDeI+F8YDwSkiuJ6WPEQ",
      "include_colab_link": true
    },
    "kernelspec": {
      "name": "python3",
      "display_name": "Python 3"
    },
    "language_info": {
      "name": "python"
    }
  },
  "cells": [
    {
      "cell_type": "markdown",
      "metadata": {
        "id": "view-in-github",
        "colab_type": "text"
      },
      "source": [
        "<a href=\"https://colab.research.google.com/github/alvaro21c/Laboratorio-2023-0/blob/main/Laboratorio2.ipynb\" target=\"_parent\"><img src=\"https://colab.research.google.com/assets/colab-badge.svg\" alt=\"Open In Colab\"/></a>"
      ]
    },
    {
      "cell_type": "code",
      "execution_count": null,
      "metadata": {
        "colab": {
          "base_uri": "https://localhost:8080/"
        },
        "id": "NEdg4SSyVN9i",
        "outputId": "dfde8c18-bbb7-4245-c153-20cd74b450fc"
      },
      "outputs": [
        {
          "name": "stdout",
          "output_type": "stream",
          "text": [
            "2+2 = 4\n"
          ]
        }
      ],
      "source": [
        "# Ejercicio 2+2\n",
        "x=int(input(\"2+2 = \"))\n",
        "if x != 4:\n",
        "  print(\"Intenta nuevamente\")"
      ]
    },
    {
      "cell_type": "code",
      "source": [
        "x=int(input(\"2+2 = \"))\n",
        "if x != 4:\n",
        "  print(\"Intenta nuevamente\")\n",
        "else:\n",
        "  print (\"Acertaste\")\n"
      ],
      "metadata": {
        "colab": {
          "base_uri": "https://localhost:8080/"
        },
        "id": "ZMolppuYZg8A",
        "outputId": "466a484f-b2c1-47e1-9e24-6acb876d1980"
      },
      "execution_count": null,
      "outputs": [
        {
          "output_type": "stream",
          "name": "stdout",
          "text": [
            "2+2 = 5\n",
            "Intenta nuevamente\n"
          ]
        }
      ]
    },
    {
      "cell_type": "code",
      "source": [
        "#elif \n",
        "edad = int(input(\"Ingresa tu edad\"))\n",
        "if edad <30:\n",
        "  print(\"En\",30-edad,\"años ya no seras veintisiempre\")\n",
        "elif edad == 30:\n",
        "  print(\"Tu tienes\",edad,\"años\")\n",
        "else:\n",
        "  print(\"Dame el secreto de la juventud!\")"
      ],
      "metadata": {
        "colab": {
          "base_uri": "https://localhost:8080/"
        },
        "id": "FsNMHuc4axha",
        "outputId": "c1abe015-f7d3-4b3f-b216-77e8a86e0d71"
      },
      "execution_count": null,
      "outputs": [
        {
          "output_type": "stream",
          "name": "stdout",
          "text": [
            "Ingresa tu edad35\n",
            "Dame el secreto de la juventud!\n"
          ]
        }
      ]
    },
    {
      "cell_type": "code",
      "source": [
        "#elif \n",
        "edad = int(input(\"Ingresa tu edad\"))\n",
        "if edad == 0:\n",
        "   print(\"Es en serio?\")\n",
        "elif edad<30:\n",
        "  print(\"En\",30-edad,\"años ya no seras veintisiempre\")\n",
        "elif edad == 30:\n",
        "  print(\"Tu tienes\",edad,\"años\")\n",
        "else:\n",
        "  print(\"Dame el secreto de la juventud!\")"
      ],
      "metadata": {
        "colab": {
          "base_uri": "https://localhost:8080/"
        },
        "id": "LzKtQb_Db35U",
        "outputId": "39ad9b85-f352-4fe8-eff7-3d34ca984a48"
      },
      "execution_count": null,
      "outputs": [
        {
          "output_type": "stream",
          "name": "stdout",
          "text": [
            "Ingresa tu edad29\n",
            "En 1 años ya no seras veintisiempre\n"
          ]
        }
      ]
    },
    {
      "cell_type": "code",
      "source": [
        "# Ejercicio condicional\n"
      ],
      "metadata": {
        "id": "tLx7I3HOdTt8"
      },
      "execution_count": null,
      "outputs": []
    },
    {
      "cell_type": "code",
      "source": [
        "# Listas\n",
        "lista1=['1','fifa','family guy','adidas',\"wwe\"]\n",
        "print(lista1) # muestra elementos de la lista\n",
        "print(len(lista1)) # total de  elementos de la lista\n",
        "print(lista1[1]) # extraer el segundo valor de la lista\n",
        "print(lista1[3]) # extraer el cuarto valor de la lista\n",
        "\n",
        "lista1.append('Copa Libertadores') # como añadir elementos a mi lista\n",
        "print(lista1)\n",
        "print(len(lista1))\n",
        "\n",
        "\n",
        "lista1.pop(1) # elimina el segundo elemento de la lista\n",
        "print(lista1)\n",
        "lista1.pop() # eliminar el ultimo elemento de la lista\n",
        "print (lista1)\n",
        "\n",
        "# verificar si hay un elemento dentro de la lista\n",
        "print (\"aew\" in lista1) # va a verificar si el elemento se encuentra en la lista creada\n"
      ],
      "metadata": {
        "colab": {
          "base_uri": "https://localhost:8080/"
        },
        "id": "GR00MbDiiAqz",
        "outputId": "d9f75018-d6c1-47e7-a6b4-bb7b07512353"
      },
      "execution_count": null,
      "outputs": [
        {
          "output_type": "stream",
          "name": "stdout",
          "text": [
            "['1', 'fifa', 'family guy', 'adidas', 'wwe']\n",
            "5\n",
            "fifa\n",
            "adidas\n",
            "['1', 'fifa', 'family guy', 'adidas', 'wwe', 'Copa Libertadores']\n",
            "6\n",
            "['1', 'family guy', 'adidas', 'wwe', 'Copa Libertadores']\n",
            "['1', 'family guy', 'adidas', 'wwe']\n",
            "False\n"
          ]
        }
      ]
    },
    {
      "cell_type": "code",
      "source": [
        "# Loops (iteraciones)\n",
        "#Iterar sobre la siguiente secuencia de 10 numeros (0-9)\n",
        "for x in range(10): # range(y) crea un rango de valores desde 0 hasta el elemento y-1\n",
        "  print (x)\n",
        "\n",
        "\n",
        "\n",
        "\n",
        "\n",
        "# ejercicio"
      ],
      "metadata": {
        "colab": {
          "base_uri": "https://localhost:8080/"
        },
        "id": "S2pHVceDlAzv",
        "outputId": "a1a1cfeb-f6c8-40fd-9361-2b6b5619bf50"
      },
      "execution_count": null,
      "outputs": [
        {
          "output_type": "stream",
          "name": "stdout",
          "text": [
            "0\n",
            "1\n",
            "2\n",
            "3\n",
            "4\n",
            "5\n",
            "6\n",
            "7\n",
            "8\n",
            "9\n",
            "0\n",
            "7\n",
            "14\n",
            "21\n",
            "28\n"
          ]
        }
      ]
    },
    {
      "cell_type": "code",
      "source": [
        "# iterar entre 0-29 con una razòn de 7 (siempre inicia con cero)\n",
        "for x in range(0,30,7):\n",
        "  print (x)"
      ],
      "metadata": {
        "colab": {
          "base_uri": "https://localhost:8080/"
        },
        "id": "QVTlTVWFml2C",
        "outputId": "268aab9e-f06c-4814-b84b-8f9673e751f9"
      },
      "execution_count": null,
      "outputs": [
        {
          "output_type": "stream",
          "name": "stdout",
          "text": [
            "0\n",
            "7\n",
            "14\n",
            "21\n",
            "28\n"
          ]
        }
      ]
    },
    {
      "cell_type": "code",
      "source": [
        "# iterar sobre la secuencia 5 a 0 retrocediendo -1 cada vez\n",
        "for x in range(5,-1,-1):\n",
        "  print(x)"
      ],
      "metadata": {
        "colab": {
          "base_uri": "https://localhost:8080/"
        },
        "id": "aslK3Vquk4Fr",
        "outputId": "2eb9e2f3-3d0a-4f11-9f02-f28ef5e67bc2"
      },
      "execution_count": null,
      "outputs": [
        {
          "output_type": "stream",
          "name": "stdout",
          "text": [
            "5\n",
            "4\n",
            "3\n",
            "2\n",
            "1\n",
            "0\n"
          ]
        }
      ]
    },
    {
      "cell_type": "code",
      "source": [
        "# Encuentra los nùmeros entre 1 y 33 que son impares\n",
        "impar=[] # se crea una lista vacia que se irá llenando con los valores\n",
        "\n",
        "for num in range(1,34):\n",
        "  #si es un numero impar\n",
        "  if (num%2 != 0): # el residuo de la division entre 2 debe ser diferente de cero\n",
        "    impar.append(num)\n",
        "\n",
        "print(impar)\n",
        "\n",
        "\n"
      ],
      "metadata": {
        "colab": {
          "base_uri": "https://localhost:8080/"
        },
        "id": "adxB8W_pnBwM",
        "outputId": "05f3910e-70c9-4fdd-9593-89d5452a785b"
      },
      "execution_count": null,
      "outputs": [
        {
          "output_type": "stream",
          "name": "stdout",
          "text": [
            "[1, 3, 5, 7, 9, 11, 13, 15, 17, 19, 21, 23, 25, 27, 29, 31, 33]\n"
          ]
        }
      ]
    },
    {
      "cell_type": "code",
      "source": [
        "equipos = ['Alianza Lima','Universitario','Manchester','Celtics','Cristal']\n",
        "\n",
        "for x in equipos:\n",
        "  if(x=='Celtics'):\n",
        "    print(x,\"no es un equipo de futbol\")\n",
        "  else:\n",
        "    print(x,\"es un equipo de futbol\")\n"
      ],
      "metadata": {
        "colab": {
          "base_uri": "https://localhost:8080/"
        },
        "id": "08Nyf_XeoVc4",
        "outputId": "b0f8e8bd-7395-450d-9183-546019f37567"
      },
      "execution_count": null,
      "outputs": [
        {
          "output_type": "stream",
          "name": "stdout",
          "text": [
            "Alianza Lima es un equipo de futbol\n",
            "Universitario es un equipo de futbol\n",
            "Manchester es un equipo de futbol\n",
            "Celtics no es un equipo de futbol\n",
            "Cristal es un equipo de futbol\n"
          ]
        }
      ]
    },
    {
      "cell_type": "code",
      "source": [
        "# iteracion para actualizar valor\n",
        "\n",
        "lista=[5,3,8,-1,-2.2,0]\n",
        "min=lista[0] # defino al valor como el primer elemento de la lista que es 5.\n",
        "print (min,'es el minimo numero')\n",
        "\n",
        "for x in lista:\n",
        "  if x<min: # si el valor x resulta menor al valor minimo establecido que se actualice\n",
        "  #actualizar\n",
        "    min=x\n",
        "\n",
        "print (min,'es el minimo numero')"
      ],
      "metadata": {
        "colab": {
          "base_uri": "https://localhost:8080/"
        },
        "id": "x3QYE2tXqNZT",
        "outputId": "aa268597-671a-4edf-d14d-389bcd93b660"
      },
      "execution_count": null,
      "outputs": [
        {
          "output_type": "stream",
          "name": "stdout",
          "text": [
            "5 es el minimo numero\n",
            "-2.2 es el minimo numero\n"
          ]
        }
      ]
    },
    {
      "cell_type": "code",
      "source": [
        "# iteracion dentro de una iteracion\n",
        "for x in range (1,11): # para cada x entre 1 y 10.\n",
        "  for y in range(1,11): # para cada y entre 1 y 10.\n",
        "    print(\"{}*{}={}\".format(x,y,x*y)) #multiplicacion"
      ],
      "metadata": {
        "colab": {
          "base_uri": "https://localhost:8080/"
        },
        "id": "1O-oNtzQs3FZ",
        "outputId": "a2bd0878-c657-45da-88af-a8801db1bd83"
      },
      "execution_count": null,
      "outputs": [
        {
          "output_type": "stream",
          "name": "stdout",
          "text": [
            "1*1=1\n",
            "1*2=2\n",
            "1*3=3\n",
            "1*4=4\n",
            "1*5=5\n",
            "1*6=6\n",
            "1*7=7\n",
            "1*8=8\n",
            "1*9=9\n",
            "1*10=10\n",
            "2*1=2\n",
            "2*2=4\n",
            "2*3=6\n",
            "2*4=8\n",
            "2*5=10\n",
            "2*6=12\n",
            "2*7=14\n",
            "2*8=16\n",
            "2*9=18\n",
            "2*10=20\n",
            "3*1=3\n",
            "3*2=6\n",
            "3*3=9\n",
            "3*4=12\n",
            "3*5=15\n",
            "3*6=18\n",
            "3*7=21\n",
            "3*8=24\n",
            "3*9=27\n",
            "3*10=30\n",
            "4*1=4\n",
            "4*2=8\n",
            "4*3=12\n",
            "4*4=16\n",
            "4*5=20\n",
            "4*6=24\n",
            "4*7=28\n",
            "4*8=32\n",
            "4*9=36\n",
            "4*10=40\n",
            "5*1=5\n",
            "5*2=10\n",
            "5*3=15\n",
            "5*4=20\n",
            "5*5=25\n",
            "5*6=30\n",
            "5*7=35\n",
            "5*8=40\n",
            "5*9=45\n",
            "5*10=50\n",
            "6*1=6\n",
            "6*2=12\n",
            "6*3=18\n",
            "6*4=24\n",
            "6*5=30\n",
            "6*6=36\n",
            "6*7=42\n",
            "6*8=48\n",
            "6*9=54\n",
            "6*10=60\n",
            "7*1=7\n",
            "7*2=14\n",
            "7*3=21\n",
            "7*4=28\n",
            "7*5=35\n",
            "7*6=42\n",
            "7*7=49\n",
            "7*8=56\n",
            "7*9=63\n",
            "7*10=70\n",
            "8*1=8\n",
            "8*2=16\n",
            "8*3=24\n",
            "8*4=32\n",
            "8*5=40\n",
            "8*6=48\n",
            "8*7=56\n",
            "8*8=64\n",
            "8*9=72\n",
            "8*10=80\n",
            "9*1=9\n",
            "9*2=18\n",
            "9*3=27\n",
            "9*4=36\n",
            "9*5=45\n",
            "9*6=54\n",
            "9*7=63\n",
            "9*8=72\n",
            "9*9=81\n",
            "9*10=90\n",
            "10*1=10\n",
            "10*2=20\n",
            "10*3=30\n",
            "10*4=40\n",
            "10*5=50\n",
            "10*6=60\n",
            "10*7=70\n",
            "10*8=80\n",
            "10*9=90\n",
            "10*10=100\n"
          ]
        }
      ]
    },
    {
      "cell_type": "code",
      "source": [
        "# While\n",
        "x = input ('Buenas noches')\n",
        "\n",
        "while x != \"hola\":\n",
        "  x=input(\"No me has saludado correctamente\")\n",
        "\n",
        "print(\"Que tal?\") "
      ],
      "metadata": {
        "colab": {
          "base_uri": "https://localhost:8080/"
        },
        "id": "e0Kd0sy8uO4z",
        "outputId": "5014fd50-8116-4879-d9ae-7f424a9707cf"
      },
      "execution_count": null,
      "outputs": [
        {
          "output_type": "stream",
          "name": "stdout",
          "text": [
            "Buenas nochesHola\n",
            "No me has saludado correctamenteHabla\n",
            "No me has saludado correctamenteHey\n",
            "No me has saludado correctamenteQue pasp\n",
            "No me has saludado correctamentehola\n",
            "Que tal?\n"
          ]
        }
      ]
    },
    {
      "cell_type": "code",
      "source": [
        "x=20 \n",
        "while (x>0):\n",
        "  print(\"x se ha reducido a\",x)\n",
        "  x=x-1\n"
      ],
      "metadata": {
        "colab": {
          "base_uri": "https://localhost:8080/"
        },
        "id": "gz8_vtXyu065",
        "outputId": "85fedf0e-a269-4fb1-fdae-ebd9743c4b82"
      },
      "execution_count": null,
      "outputs": [
        {
          "output_type": "stream",
          "name": "stdout",
          "text": [
            "x se ha reducido a 20\n",
            "x se ha reducido a 19\n",
            "x se ha reducido a 18\n",
            "x se ha reducido a 17\n",
            "x se ha reducido a 16\n",
            "x se ha reducido a 15\n",
            "x se ha reducido a 14\n",
            "x se ha reducido a 13\n",
            "x se ha reducido a 12\n",
            "x se ha reducido a 11\n",
            "x se ha reducido a 10\n",
            "x se ha reducido a 9\n",
            "x se ha reducido a 8\n",
            "x se ha reducido a 7\n",
            "x se ha reducido a 6\n",
            "x se ha reducido a 5\n",
            "x se ha reducido a 4\n",
            "x se ha reducido a 3\n",
            "x se ha reducido a 2\n",
            "x se ha reducido a 1\n"
          ]
        }
      ]
    },
    {
      "cell_type": "code",
      "source": [
        "# break es para detener el loop/iteracion\n",
        "x=1\n",
        "while x<=10:\n",
        "  if x==5:\n",
        "    break\n",
        "  print('x ahora es:',x)\n",
        "  x=x+1"
      ],
      "metadata": {
        "colab": {
          "base_uri": "https://localhost:8080/"
        },
        "id": "DLUtSGEXvQtj",
        "outputId": "3db26aa1-acf4-48dc-9d2a-5517eba9608e"
      },
      "execution_count": null,
      "outputs": [
        {
          "output_type": "stream",
          "name": "stdout",
          "text": [
            "x ahora es: 1\n",
            "x ahora es: 2\n",
            "x ahora es: 3\n",
            "x ahora es: 4\n"
          ]
        }
      ]
    },
    {
      "cell_type": "code",
      "source": [
        "# continue \"salir\" de la iteracion\n",
        "for x in range(1,21):\n",
        "  if (x%2 != 0):\n",
        "    #print (x, 'es impar')\n",
        "    if(x%3 == 0):\n",
        "        print (x)\n",
        "\n",
        "# debo un ejercicio de continue para enviar"
      ],
      "metadata": {
        "colab": {
          "base_uri": "https://localhost:8080/"
        },
        "id": "pPJAxMNAvvIG",
        "outputId": "151c17cb-be76-4db6-84cd-3f61de961326"
      },
      "execution_count": null,
      "outputs": [
        {
          "output_type": "stream",
          "name": "stdout",
          "text": [
            "3\n",
            "9\n",
            "15\n"
          ]
        }
      ]
    },
    {
      "cell_type": "code",
      "source": [
        "# Funciones\n",
        "\n",
        "def cuadrado(x):\n",
        "  area=x*x\n",
        "  return area\n"
      ],
      "metadata": {
        "id": "TGkMlKQPxaD0"
      },
      "execution_count": null,
      "outputs": []
    },
    {
      "cell_type": "code",
      "source": [
        "cuadrado(2.5)\n"
      ],
      "metadata": {
        "colab": {
          "base_uri": "https://localhost:8080/"
        },
        "id": "q4HzjpkBx_Aq",
        "outputId": "cb0c1d0c-901f-45ab-e6c8-2a9e6d20d978"
      },
      "execution_count": null,
      "outputs": [
        {
          "output_type": "execute_result",
          "data": {
            "text/plain": [
              "6.25"
            ]
          },
          "metadata": {},
          "execution_count": 58
        }
      ]
    },
    {
      "cell_type": "code",
      "source": [
        "x = 11\n",
        "print(cuadrado(x))"
      ],
      "metadata": {
        "colab": {
          "base_uri": "https://localhost:8080/"
        },
        "id": "b4B8WJHByDPK",
        "outputId": "a7755053-e8e5-4ae3-d3bd-bfe590adfcf8"
      },
      "execution_count": null,
      "outputs": [
        {
          "output_type": "stream",
          "name": "stdout",
          "text": [
            "121\n"
          ]
        }
      ]
    },
    {
      "cell_type": "code",
      "source": [
        "def mayor_que (x,y):\n",
        "  ''' Compara dos valores e indica si el primer argumento es mayor o menor que\n",
        "  el segundo argumento indicando True o False '''\n",
        "  if x>y:\n",
        "    return True\n",
        "  else:\n",
        "    return False\n"
      ],
      "metadata": {
        "id": "Fby57q01yQQt"
      },
      "execution_count": null,
      "outputs": []
    },
    {
      "cell_type": "code",
      "source": [
        "mayor_que(2,3)"
      ],
      "metadata": {
        "colab": {
          "base_uri": "https://localhost:8080/"
        },
        "id": "jgTK7Eu6yn9u",
        "outputId": "831079b0-f29d-4310-b801-02fc62ef1960"
      },
      "execution_count": null,
      "outputs": [
        {
          "output_type": "execute_result",
          "data": {
            "text/plain": [
              "False"
            ]
          },
          "metadata": {},
          "execution_count": 63
        }
      ]
    },
    {
      "cell_type": "code",
      "source": [
        "help (mayor_que)"
      ],
      "metadata": {
        "colab": {
          "base_uri": "https://localhost:8080/"
        },
        "id": "mWBAe9a5yoDc",
        "outputId": "e7caa8ef-bab4-4e33-eaca-b256ff353a9b"
      },
      "execution_count": null,
      "outputs": [
        {
          "output_type": "stream",
          "name": "stdout",
          "text": [
            "Help on function mayor_que in module __main__:\n",
            "\n",
            "mayor_que(x, y)\n",
            "    Compara dos valores e indica si el primer argumento es mayor o menor que\n",
            "    el segundo argumento indicando True o False\n",
            "\n"
          ]
        }
      ]
    },
    {
      "cell_type": "code",
      "source": [
        "def valores_unicos(a):\n",
        "  x=[]\n",
        "  for y in a:\n",
        "    if y not in x:\n",
        "      x.append(y)\n",
        "  return x\n",
        "\n",
        "\n"
      ],
      "metadata": {
        "id": "KFhC3DyAy3x0"
      },
      "execution_count": null,
      "outputs": []
    },
    {
      "cell_type": "code",
      "source": [
        "valores_unicos([1,2,3,3,3,4,5])"
      ],
      "metadata": {
        "colab": {
          "base_uri": "https://localhost:8080/"
        },
        "id": "z_525qSrzr1j",
        "outputId": "ee5b7ac0-90e9-42ae-ed21-2430d3824707"
      },
      "execution_count": null,
      "outputs": [
        {
          "output_type": "execute_result",
          "data": {
            "text/plain": [
              "[1, 2, 3, 4, 5]"
            ]
          },
          "metadata": {},
          "execution_count": 72
        }
      ]
    }
  ]
}