{
 "cells": [
  {
   "cell_type": "code",
   "execution_count": 2,
   "id": "893ca12d",
   "metadata": {},
   "outputs": [
    {
     "name": "stdout",
     "output_type": "stream",
     "text": [
      "hola\n"
     ]
    }
   ],
   "source": [
    "print (\"hola\")"
   ]
  },
  {
   "cell_type": "markdown",
   "id": "dd3871bd",
   "metadata": {},
   "source": [
    "# Numpy\n",
    "* Que son? Son matrices de N-dimensiones que coleccionas datos de un mismo tipo o diferente"
   ]
  },
  {
   "cell_type": "code",
   "execution_count": 3,
   "id": "fb6f47b1",
   "metadata": {},
   "outputs": [],
   "source": [
    "import numpy as np # importar la libreria\n"
   ]
  },
  {
   "cell_type": "code",
   "execution_count": 97,
   "id": "b9a1b405",
   "metadata": {},
   "outputs": [],
   "source": [
    "m=np.array([[0,1,2],[3,4,5]]) # 2 filas y 3 columnas"
   ]
  },
  {
   "cell_type": "code",
   "execution_count": 98,
   "id": "e825db49",
   "metadata": {},
   "outputs": [
    {
     "name": "stdout",
     "output_type": "stream",
     "text": [
      "[[0 1 2]\n",
      " [3 4 5]]\n"
     ]
    }
   ],
   "source": [
    "print(m)"
   ]
  },
  {
   "cell_type": "code",
   "execution_count": 102,
   "id": "5540706f",
   "metadata": {},
   "outputs": [
    {
     "data": {
      "text/plain": [
       "3"
      ]
     },
     "execution_count": 102,
     "metadata": {},
     "output_type": "execute_result"
    }
   ],
   "source": []
  },
  {
   "cell_type": "code",
   "execution_count": 7,
   "id": "0c728856",
   "metadata": {},
   "outputs": [
    {
     "name": "stdout",
     "output_type": "stream",
     "text": [
      "(2, 3)\n"
     ]
    }
   ],
   "source": [
    "print(m.shape) # muestra las dimensiones de la matriz"
   ]
  },
  {
   "cell_type": "code",
   "execution_count": 46,
   "id": "f474f913",
   "metadata": {},
   "outputs": [
    {
     "name": "stdout",
     "output_type": "stream",
     "text": [
      "['123', '2']\n",
      "2\n"
     ]
    }
   ],
   "source": [
    "x=['1','2']\n",
    "\n",
    "x[0]=\"123\"\n",
    "print(x)\n",
    "print(x[1])"
   ]
  },
  {
   "cell_type": "code",
   "execution_count": 10,
   "id": "436c823f",
   "metadata": {},
   "outputs": [
    {
     "name": "stdout",
     "output_type": "stream",
     "text": [
      "[3 4 5]\n"
     ]
    }
   ],
   "source": [
    "print(m[1]) # muestra la segunda "
   ]
  },
  {
   "cell_type": "code",
   "execution_count": 12,
   "id": "835ac1f4",
   "metadata": {},
   "outputs": [
    {
     "name": "stdout",
     "output_type": "stream",
     "text": [
      "[[0 1 2]\n",
      " [3 4 5]\n",
      " [6 7 8]]\n"
     ]
    }
   ],
   "source": [
    "y=np.array([[0,1,2],[3,4,5],[6,7,8]])\n",
    "print(y)"
   ]
  },
  {
   "cell_type": "code",
   "execution_count": 19,
   "id": "cc90f6d7",
   "metadata": {
    "scrolled": true
   },
   "outputs": [
    {
     "name": "stdout",
     "output_type": "stream",
     "text": [
      "[2 5 8]\n",
      "[2 5 8]\n",
      "[2 5 8]\n",
      "[2]\n",
      "[2 5]\n"
     ]
    }
   ],
   "source": [
    "print(y[:,2]) # solo extrae los elementos 2,5,8\n",
    "\n",
    "print(y[:,2]) # extraer todas las filas y solo la columna 3\n",
    "print(y[0:,2]) #  extraer todas las filas y solo la columna 3\n",
    "\n",
    "\n",
    "\n",
    "print(y[0:1,2]) # solo extrae la fila 1 y columna 3\n",
    "\n",
    "print(y[0:2,2]) # solo extrae fila 0 y 1 y columna 3.\n",
    " \n",
    "\n"
   ]
  },
  {
   "cell_type": "code",
   "execution_count": 20,
   "id": "12f186a4",
   "metadata": {},
   "outputs": [
    {
     "name": "stdout",
     "output_type": "stream",
     "text": [
      "[[0 1 2]\n",
      " [3 4 5]]\n"
     ]
    }
   ],
   "source": [
    "print(y[0:2,:]) # todas las columnas solo fila 0 y 1."
   ]
  },
  {
   "cell_type": "code",
   "execution_count": 22,
   "id": "03506ca3",
   "metadata": {},
   "outputs": [
    {
     "name": "stdout",
     "output_type": "stream",
     "text": [
      "[1.  0.1 2. ]\n",
      "['1' '1' '0.1']\n"
     ]
    }
   ],
   "source": [
    "a=np.array([1,0.1,2])\n",
    "print (a)\n",
    "\n",
    "b=np.array([1,\"1\",0.1])\n",
    "print(b)"
   ]
  },
  {
   "cell_type": "code",
   "execution_count": 24,
   "id": "657c37df",
   "metadata": {},
   "outputs": [
    {
     "name": "stdout",
     "output_type": "stream",
     "text": [
      "[[0. 0.]\n",
      " [0. 0.]]\n"
     ]
    }
   ],
   "source": [
    "# Otros comandos utiles\n",
    "x = np.zeros((2,2)) # matriz de puros ceros\n",
    "print(x) "
   ]
  },
  {
   "cell_type": "code",
   "execution_count": 25,
   "id": "1a315dcc",
   "metadata": {},
   "outputs": [
    {
     "name": "stdout",
     "output_type": "stream",
     "text": [
      "[[1. 1.]\n",
      " [1. 1.]]\n"
     ]
    }
   ],
   "source": [
    "x=np.ones((2,2)) # matriz de puros unos\n",
    "print(x)"
   ]
  },
  {
   "cell_type": "code",
   "execution_count": 26,
   "id": "f9998d18",
   "metadata": {},
   "outputs": [
    {
     "name": "stdout",
     "output_type": "stream",
     "text": [
      "[[8 8]\n",
      " [8 8]]\n"
     ]
    }
   ],
   "source": [
    "x=np.full((2,2),8) # matriz rellenada con el numero a criterio de elccion\n",
    "print(x)"
   ]
  },
  {
   "cell_type": "code",
   "execution_count": 41,
   "id": "bd0925e8",
   "metadata": {},
   "outputs": [
    {
     "name": "stdout",
     "output_type": "stream",
     "text": [
      "[[0.13744551 0.3565013  0.42678318]\n",
      " [0.71480004 0.154101   0.36341149]]\n"
     ]
    }
   ],
   "source": [
    "x=np.random.random((2,3))\n",
    "print(x)"
   ]
  },
  {
   "cell_type": "code",
   "execution_count": 49,
   "id": "6a14aaff",
   "metadata": {},
   "outputs": [
    {
     "name": "stdout",
     "output_type": "stream",
     "text": [
      "[[0 1 2]\n",
      " [3 4 5]]\n"
     ]
    }
   ],
   "source": [
    "# COPIAR \n",
    "m=np.array([[0,1,2],[3,4,5]])\n",
    "\n",
    "x=m # esto es una referenciacion\n",
    "\n",
    "print(x)\n"
   ]
  },
  {
   "cell_type": "code",
   "execution_count": 51,
   "id": "1c2fc1e8",
   "metadata": {},
   "outputs": [
    {
     "name": "stdout",
     "output_type": "stream",
     "text": [
      "[[0 9 2]\n",
      " [3 4 5]]\n"
     ]
    }
   ],
   "source": [
    "\n",
    "m[0,1]=9\n",
    "print(x)"
   ]
  },
  {
   "cell_type": "code",
   "execution_count": 52,
   "id": "df7953f1",
   "metadata": {},
   "outputs": [
    {
     "name": "stdout",
     "output_type": "stream",
     "text": [
      "[[0 9 2]\n",
      " [3 4 5]]\n"
     ]
    }
   ],
   "source": [
    "y=m.copy()\n",
    "print(y)"
   ]
  },
  {
   "cell_type": "code",
   "execution_count": 53,
   "id": "f2ec6044",
   "metadata": {},
   "outputs": [
    {
     "name": "stdout",
     "output_type": "stream",
     "text": [
      "[[0 9 2]\n",
      " [3 4 5]]\n"
     ]
    }
   ],
   "source": [
    "m[0,1]=1\n",
    "print(y)"
   ]
  },
  {
   "cell_type": "code",
   "execution_count": 54,
   "id": "5ece9ad0",
   "metadata": {},
   "outputs": [
    {
     "name": "stdout",
     "output_type": "stream",
     "text": [
      "int32\n"
     ]
    }
   ],
   "source": [
    "# Tipos de datos\n",
    "x=np.array([0,1,2])\n",
    "print(x.dtype)\n"
   ]
  },
  {
   "cell_type": "code",
   "execution_count": 55,
   "id": "f576e691",
   "metadata": {},
   "outputs": [
    {
     "name": "stdout",
     "output_type": "stream",
     "text": [
      "float32\n"
     ]
    }
   ],
   "source": [
    "m=x.astype(np.float32)\n",
    "print(m.dtype)"
   ]
  },
  {
   "cell_type": "code",
   "execution_count": 59,
   "id": "45b413ab",
   "metadata": {},
   "outputs": [
    {
     "name": "stdout",
     "output_type": "stream",
     "text": [
      "[[1 2]\n",
      " [3 4]]\n",
      "[[5 6]\n",
      " [7 8]]\n",
      "[[ 6  8]\n",
      " [10 12]]\n",
      "[[ 6  8]\n",
      " [10 12]]\n"
     ]
    }
   ],
   "source": [
    "# Operaciones matematicas\n",
    "# Suma\n",
    "a=np.array([[1,2],[3,4]])\n",
    "b=np.array([[5,6],[7,8]])\n",
    "\n",
    "print(a)\n",
    "print(b)\n",
    "\n",
    "print(a+b) # suma comun \n",
    "print(np.add(a,b)) #suma utilizando numpy"
   ]
  },
  {
   "cell_type": "code",
   "execution_count": 63,
   "id": "7a87eabc",
   "metadata": {},
   "outputs": [
    {
     "name": "stdout",
     "output_type": "stream",
     "text": [
      "[[-4 -4]\n",
      " [-4 -4]]\n",
      "[[-4 -4]\n",
      " [-4 -4]]\n"
     ]
    }
   ],
   "source": [
    "# Resta\n",
    "print(a-b)\n",
    "print(np.subtract(a,b))"
   ]
  },
  {
   "cell_type": "code",
   "execution_count": 65,
   "id": "7f6611d9",
   "metadata": {},
   "outputs": [
    {
     "name": "stdout",
     "output_type": "stream",
     "text": [
      "[[0.2        0.33333333]\n",
      " [0.42857143 0.5       ]]\n",
      "[[0.2        0.33333333]\n",
      " [0.42857143 0.5       ]]\n"
     ]
    }
   ],
   "source": [
    "# Division\n",
    "print (a/b)\n",
    "print(np.divide(a,b))"
   ]
  },
  {
   "cell_type": "code",
   "execution_count": 67,
   "id": "aa51b56c",
   "metadata": {},
   "outputs": [
    {
     "name": "stdout",
     "output_type": "stream",
     "text": [
      "[[ 5 12]\n",
      " [21 32]]\n",
      "[[1.         1.41421356]\n",
      " [1.73205081 2.        ]]\n"
     ]
    }
   ],
   "source": [
    "# multiplicacion\n",
    "print (a*b)\n",
    "\n",
    "# raiz cuadrada\n",
    "print(np.sqrt(a))"
   ]
  },
  {
   "cell_type": "code",
   "execution_count": 71,
   "id": "5c7dc7c7",
   "metadata": {},
   "outputs": [
    {
     "name": "stdout",
     "output_type": "stream",
     "text": [
      "[0 1 2 3 4 5 6 7]\n",
      "[[0 1 2 3]\n",
      " [4 5 6 7]]\n",
      "[[1 2]\n",
      " [3 4]\n",
      " [5 6]]\n",
      "[[1 2 3]\n",
      " [4 5 6]]\n"
     ]
    }
   ],
   "source": [
    "# Reshaping \n",
    "x=np.arange(8) \n",
    "print(x)\n",
    "\n",
    "y=np.reshape(x,(2,4))\n",
    "print(y)\n",
    "\n",
    "a=np.array([[1,2],[3,4],[5,6]])\n",
    "print(a)\n",
    "\n",
    "b=np.reshape(a,(2,3))\n",
    "print(b)"
   ]
  },
  {
   "cell_type": "code",
   "execution_count": 92,
   "id": "aef77fdd",
   "metadata": {},
   "outputs": [
    {
     "name": "stdout",
     "output_type": "stream",
     "text": [
      "[[40 15]\n",
      " [75 12]]\n"
     ]
    }
   ],
   "source": [
    "# Random seed \n",
    "x=np.random.seed(1)\n",
    "x=np.random.randint(3,high=100,size=(2,2))\n",
    "print(x)"
   ]
  },
  {
   "cell_type": "code",
   "execution_count": 88,
   "id": "85dcb325",
   "metadata": {},
   "outputs": [
    {
     "name": "stdout",
     "output_type": "stream",
     "text": [
      "[[ 1 -2  3]\n",
      " [ 4  5  6]\n",
      " [ 7  8 -9]]\n",
      "-9\n",
      "8\n",
      "[ 1 -2 -9]\n",
      "[3 6 8]\n"
     ]
    }
   ],
   "source": [
    "x=np.array([[1,-2,3],[4,5,6],[7,8,-9]])\n",
    "print(x)\n",
    "print(x.min())\n",
    "print(x.max())\n",
    "\n",
    "print(x.min(axis=0)) # cuando axis es 0 significa columna y cuando axis es 1 significa fila\n",
    "print(x.max(axis=1))\n"
   ]
  },
  {
   "cell_type": "code",
   "execution_count": 91,
   "id": "9ef911d3",
   "metadata": {},
   "outputs": [
    {
     "name": "stdout",
     "output_type": "stream",
     "text": [
      "23\n",
      "[ 2 15  6]\n",
      "2.5555555555555554\n",
      "25.135802469135804\n",
      "[4.         3.66666667 0.        ]\n"
     ]
    }
   ],
   "source": [
    "print(np.sum(x))\n",
    "print(np.sum(x,axis=1))\n",
    "print(np.mean(x))\n",
    "print(np.var(x))\n",
    "print(np.mean(x,axis=0))"
   ]
  }
 ],
 "metadata": {
  "kernelspec": {
   "display_name": "Python 3 (ipykernel)",
   "language": "python",
   "name": "python3"
  },
  "language_info": {
   "codemirror_mode": {
    "name": "ipython",
    "version": 3
   },
   "file_extension": ".py",
   "mimetype": "text/x-python",
   "name": "python",
   "nbconvert_exporter": "python",
   "pygments_lexer": "ipython3",
   "version": "3.9.12"
  }
 },
 "nbformat": 4,
 "nbformat_minor": 5
}
